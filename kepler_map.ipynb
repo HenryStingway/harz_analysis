{
 "cells": [
  {
   "cell_type": "code",
   "execution_count": 2,
   "id": "initial_id",
   "metadata": {
    "ExecuteTime": {
     "end_time": "2025-08-19T21:33:08.967292Z",
     "start_time": "2025-08-19T21:33:07.524245Z"
    }
   },
   "outputs": [
    {
     "name": "stdout",
     "output_type": "stream",
     "text": [
      "User Guide: https://docs.kepler.gl/docs/keplergl-jupyter\n"
     ]
    },
    {
     "data": {
      "application/vnd.jupyter.widget-view+json": {
       "model_id": "950b8f7a3df7436e994c4b6e718eb615",
       "version_major": 2,
       "version_minor": 0
      },
      "text/plain": [
       "KeplerGl(data={'tree_locations':          utm_east  utm_north   latitude  longitude                 date\n",
       "0    …"
      ]
     },
     "execution_count": 2,
     "metadata": {},
     "output_type": "execute_result"
    }
   ],
   "source": [
    "from keplergl import KeplerGl\n",
    "import pandas as pd\n",
    "import geojson\n",
    "\n",
    "predicted_tree_locations = pd.read_csv('predicted_tree_locations.csv')\n",
    "with open('final.geojson') as f:\n",
    "    changeset_gj = geojson.load(f)\n",
    "\n",
    "map_1 = KeplerGl(height=800, data={'tree_locations': predicted_tree_locations, 'changeset': changeset_gj})\n",
    "map_1"
   ]
  },
  {
   "cell_type": "code",
   "execution_count": 3,
   "id": "b94c9c05-0c1c-4143-bd0f-a4200f89477b",
   "metadata": {
    "scrolled": true
   },
   "outputs": [
    {
     "name": "stdout",
     "output_type": "stream",
     "text": [
      "Map saved to forest_analysis.html!\n"
     ]
    }
   ],
   "source": [
    "config = map_1.config\n",
    "map_1.save_to_html(data={'tree_locations': predicted_tree_locations, 'changeset': changeset_gj}, config=config, file_name='forest_analysis.html')"
   ]
  },
  {
   "cell_type": "code",
   "execution_count": null,
   "id": "b2466ac9-ff36-4a33-a8e2-35b0ea07210c",
   "metadata": {},
   "outputs": [],
   "source": [
    "import geojson\n",
    "\n",
    "with open(path_to_file) as f:\n",
    "    gj = geojson.load(f)\n",
    "changeset = gj['features']\n",
    "map_2 = KeplerGl(height=800, data={'changeset': changeset})\n",
    "map_2"
   ]
  },
  {
   "cell_type": "code",
   "execution_count": null,
   "id": "d8bd45a3-b785-4903-9a94-21ef68451ccd",
   "metadata": {},
   "outputs": [],
   "source": []
  }
 ],
 "metadata": {
  "kernelspec": {
   "display_name": "Python 3 (ipykernel)",
   "language": "python",
   "name": "python3"
  },
  "language_info": {
   "codemirror_mode": {
    "name": "ipython",
    "version": 3
   },
   "file_extension": ".py",
   "mimetype": "text/x-python",
   "name": "python",
   "nbconvert_exporter": "python",
   "pygments_lexer": "ipython3",
   "version": "3.12.3"
  }
 },
 "nbformat": 4,
 "nbformat_minor": 5
}
